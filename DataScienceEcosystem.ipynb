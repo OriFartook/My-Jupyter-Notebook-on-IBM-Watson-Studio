{
 "cells": [
  {
   "cell_type": "markdown",
   "id": "a36bd1a5-77e9-4050-a959-b89db24c13e5",
   "metadata": {},
   "source": [
    "# Data Science Tools and Ecosystem"
   ]
  },
  {
   "cell_type": "markdown",
   "id": "fbffd18a-f8d8-48cf-93c8-23e129852ac7",
   "metadata": {},
   "source": [
    "In this notebook, Data Science Tools and Ecosystem are summarized."
   ]
  },
  {
   "cell_type": "markdown",
   "id": "0b4cea48-395a-44eb-af43-b673d008b3a8",
   "metadata": {},
   "source": [
    "\n",
    "__Objectives:__\n",
    "\n",
    "- List popular languages for Data Science\n",
    "- Doing arithmetic \n",
    "- List Data Science Tools"
   ]
  },
  {
   "cell_type": "markdown",
   "id": "4f618ed0-d05a-47a4-92a3-80903ce26c1e",
   "metadata": {},
   "source": [
    "Some of the popular languages that Data Scientists use are:\n"
   ]
  },
  {
   "cell_type": "markdown",
   "id": "145fe99d-6580-490c-99c1-9bdfa09b853a",
   "metadata": {},
   "source": [
    "    1. Python\n",
    "    2. R\n",
    "    3. Java"
   ]
  },
  {
   "cell_type": "markdown",
   "id": "38a97960-06dc-4376-8ef3-c5854056a7b3",
   "metadata": {},
   "source": [
    "Some of the commonly used libraries used by Data Scientists include:"
   ]
  },
  {
   "cell_type": "markdown",
   "id": "5ef88428-38e3-4b5b-b7a6-89ed895e9ba5",
   "metadata": {},
   "source": [
    "1. TensorFlow\n",
    "2. SciPy\n",
    "3. NumPy\n",
    "4. Pandas"
   ]
  },
  {
   "cell_type": "markdown",
   "id": "17d19aa5-2dae-4859-afdd-f40067256c06",
   "metadata": {},
   "source": [
    "|Data Science Tools| \n",
    "| --- | \n",
    "| KNIME | \n",
    "| Neo4J | \n",
    "| Hadoop | "
   ]
  },
  {
   "cell_type": "markdown",
   "id": "38fbe61c-8819-43c6-9e04-f5db289ddd6a",
   "metadata": {},
   "source": [
    "### Below are a few examples of evaluating arithmetic expressions in Python"
   ]
  },
  {
   "cell_type": "code",
   "execution_count": 1,
   "id": "6b7c7e75-1ff4-4dd7-9377-7a42c924c977",
   "metadata": {},
   "outputs": [
    {
     "data": {
      "text/plain": [
       "17"
      ]
     },
     "execution_count": 1,
     "metadata": {},
     "output_type": "execute_result"
    }
   ],
   "source": [
    "#This a simple arithmetic expression to mutiply then add integers\n",
    "(3*4)+5"
   ]
  },
  {
   "cell_type": "code",
   "execution_count": 2,
   "id": "f16f45b0-223c-45c1-b419-f16469455cd1",
   "metadata": {},
   "outputs": [
    {
     "data": {
      "text/plain": [
       "3.3333333333333335"
      ]
     },
     "execution_count": 2,
     "metadata": {},
     "output_type": "execute_result"
    }
   ],
   "source": [
    "# This will convert 200 minutes to hours by diving by 60\n",
    "200/60"
   ]
  },
  {
   "cell_type": "code",
   "execution_count": null,
   "id": "1b14bab6-7d32-4aa3-b6d5-3f0d958c4622",
   "metadata": {},
   "outputs": [],
   "source": []
  }
 ],
 "metadata": {
  "kernelspec": {
   "display_name": "Python",
   "language": "python",
   "name": "conda-env-python-py"
  },
  "language_info": {
   "codemirror_mode": {
    "name": "ipython",
    "version": 3
   },
   "file_extension": ".py",
   "mimetype": "text/x-python",
   "name": "python",
   "nbconvert_exporter": "python",
   "pygments_lexer": "ipython3",
   "version": "3.7.12"
  }
 },
 "nbformat": 4,
 "nbformat_minor": 5
}
